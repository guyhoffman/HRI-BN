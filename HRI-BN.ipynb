{
 "cells": [
  {
   "cell_type": "code",
   "execution_count": 10,
   "id": "1e439347-e929-4102-a351-e7cc7dc71c43",
   "metadata": {},
   "outputs": [],
   "source": [
    "from pgmpy.models import BayesianNetwork\n",
    "from pgmpy.factors.discrete import TabularCPD\n",
    "from pgmpy.inference import VariableElimination, Inference"
   ]
  },
  {
   "cell_type": "code",
   "execution_count": 4,
   "id": "2448a5dc-fe99-4030-a8a4-a8eceb42767c",
   "metadata": {},
   "outputs": [],
   "source": [
    "# Define Bayesian Network structure\n",
    "model = BayesianNetwork([('F', 'Q'), ('F', 'D'), ('Q', 'W'), ('D', 'W')])\n",
    "\n",
    "# Define CPDs\n",
    "cpd_f = TabularCPD(variable='F', variable_card=2, values=[[0.3], [0.7]])\n",
    "cpd_q = TabularCPD(variable='Q', variable_card=2, values=[[0.5, 0.2], [0.5, 0.8]],\n",
    "                    evidence=['F'], evidence_card=[2])\n",
    "cpd_d = TabularCPD(variable='D', variable_card=2, values=[[0.6, 0.3], [0.4, 0.7]],\n",
    "                    evidence=['F'], evidence_card=[2])\n",
    "cpd_w = TabularCPD(variable='W', variable_card=2, \n",
    "                    values=[[0.25, 0.15, 0.50, 0.30], [0.75, 0.85, 0.50, 0.70]],\n",
    "                    evidence=['Q', 'D'], evidence_card=[2, 2])\n",
    "\n",
    "# Add CPDs to model\n",
    "model.add_cpds(cpd_f, cpd_q, cpd_d, cpd_w)"
   ]
  },
  {
   "cell_type": "code",
   "execution_count": 5,
   "id": "945c2485-b247-43d2-9d46-03c43e5ec8d5",
   "metadata": {},
   "outputs": [],
   "source": [
    "assert model.check_model()"
   ]
  },
  {
   "cell_type": "code",
   "execution_count": 9,
   "id": "4b70d4c3-3eab-4116-b1ba-2311a78e15f7",
   "metadata": {},
   "outputs": [
    {
     "name": "stdout",
     "output_type": "stream",
     "text": [
      "+------+-----+\n",
      "| F(0) | 0.3 |\n",
      "+------+-----+\n",
      "| F(1) | 0.7 |\n",
      "+------+-----+\n",
      "+------+------+------+\n",
      "| F    | F(0) | F(1) |\n",
      "+------+------+------+\n",
      "| Q(0) | 0.5  | 0.2  |\n",
      "+------+------+------+\n",
      "| Q(1) | 0.5  | 0.8  |\n",
      "+------+------+------+\n",
      "+------+------+------+\n",
      "| F    | F(0) | F(1) |\n",
      "+------+------+------+\n",
      "| D(0) | 0.6  | 0.3  |\n",
      "+------+------+------+\n",
      "| D(1) | 0.4  | 0.7  |\n",
      "+------+------+------+\n",
      "+------+------+------+------+------+\n",
      "| Q    | Q(0) | Q(0) | Q(1) | Q(1) |\n",
      "+------+------+------+------+------+\n",
      "| D    | D(0) | D(1) | D(0) | D(1) |\n",
      "+------+------+------+------+------+\n",
      "| W(0) | 0.25 | 0.15 | 0.5  | 0.3  |\n",
      "+------+------+------+------+------+\n",
      "| W(1) | 0.75 | 0.85 | 0.5  | 0.7  |\n",
      "+------+------+------+------+------+\n"
     ]
    },
    {
     "data": {
      "text/plain": [
       "[None, None, None, None]"
      ]
     },
     "execution_count": 9,
     "metadata": {},
     "output_type": "execute_result"
    }
   ],
   "source": [
    "[print (cpd) for cpd in model.get_cpds()]"
   ]
  },
  {
   "cell_type": "code",
   "execution_count": 6,
   "id": "9d4aa580-d26d-49c0-9941-3d7b847dd654",
   "metadata": {},
   "outputs": [
    {
     "name": "stdout",
     "output_type": "stream",
     "text": [
      "+------+----------+\n",
      "| W    |   phi(W) |\n",
      "+======+==========+\n",
      "| W(0) |   0.3240 |\n",
      "+------+----------+\n",
      "| W(1) |   0.6760 |\n",
      "+------+----------+\n"
     ]
    }
   ],
   "source": [
    "# Perform Variable Elimination\n",
    "inference = VariableElimination(model)\n",
    "result = inference.query(variables=['W'], evidence={'F': 1})\n",
    "print(result)"
   ]
  },
  {
   "cell_type": "code",
   "execution_count": null,
   "id": "98689016-fa17-408c-bd30-d3f9c9554f37",
   "metadata": {},
   "outputs": [],
   "source": []
  }
 ],
 "metadata": {
  "kernelspec": {
   "display_name": "Python 3 (ipykernel)",
   "language": "python",
   "name": "python3"
  },
  "language_info": {
   "codemirror_mode": {
    "name": "ipython",
    "version": 3
   },
   "file_extension": ".py",
   "mimetype": "text/x-python",
   "name": "python",
   "nbconvert_exporter": "python",
   "pygments_lexer": "ipython3",
   "version": "3.13.1"
  }
 },
 "nbformat": 4,
 "nbformat_minor": 5
}
