{
 "cells": [
  {
   "cell_type": "markdown",
   "id": "a6eab71c-00de-41f5-abea-10857fd62ab1",
   "metadata": {
    "deletable": false,
    "editable": false,
    "nbgrader": {
     "cell_type": "markdown",
     "checksum": "cbb442e4fd138283742f58db79c60f81",
     "grade": false,
     "grade_id": "cell-9ef14c54e965c52f",
     "locked": true,
     "schema_version": 3,
     "solution": false,
     "task": false
    }
   },
   "source": [
    "# Binary Bayes Net Inference\n",
    "\n",
    "This is a quick notebook exercise to exemplify Bayes Net (BN) inference. \n",
    "\n",
    "Consider the following BN:  \n",
    "\n",
    "![Imaginary SuperBowl Bayes Net Diagram](BN-NFL.png \"Imaginary SuperBowl Bayes Net Diagram\")\n"
   ]
  },
  {
   "cell_type": "markdown",
   "id": "be4b46ea-0dda-42a4-b843-6e0a16c9fff9",
   "metadata": {
    "deletable": false,
    "editable": false,
    "nbgrader": {
     "cell_type": "markdown",
     "checksum": "200ab4c361ba63b26f34b7ffdaa852cb",
     "grade": false,
     "grade_id": "cell-f3b6fc3b134cd864",
     "locked": true,
     "schema_version": 3,
     "solution": false,
     "task": false
    }
   },
   "source": [
    "----\n",
    "We can use the `BayesianNetwork` module from [pgmpy](https://pgmpy.org/) to construct this network:"
   ]
  },
  {
   "cell_type": "code",
   "execution_count": null,
   "id": "1e439347-e929-4102-a351-e7cc7dc71c43",
   "metadata": {
    "deletable": false,
    "editable": false,
    "nbgrader": {
     "cell_type": "code",
     "checksum": "761f46b1812e406736a740632ecee20e",
     "grade": false,
     "grade_id": "cell-dacd4367ba006678",
     "locked": true,
     "schema_version": 3,
     "solution": false,
     "task": false
    }
   },
   "outputs": [],
   "source": [
    "import numpy as np\n",
    "import pandas as pd\n",
    "\n",
    "from pgmpy.models import BayesianNetwork\n",
    "from pgmpy.factors.discrete import TabularCPD"
   ]
  },
  {
   "cell_type": "code",
   "execution_count": null,
   "id": "2448a5dc-fe99-4030-a8a4-a8eceb42767c",
   "metadata": {
    "deletable": false,
    "editable": false,
    "nbgrader": {
     "cell_type": "code",
     "checksum": "ea6114e4bd52ad109d993a4b10d56c57",
     "grade": false,
     "grade_id": "cell-3320f861c723c1b1",
     "locked": true,
     "schema_version": 3,
     "solution": false,
     "task": false
    }
   },
   "outputs": [],
   "source": [
    "# Define Bayesian Network structure\n",
    "model = BayesianNetwork([('F', 'Q'), ('F', 'D'), ('Q', 'W'), ('D', 'W')])\n",
    "\n",
    "# Define CPDs\n",
    "cpd_f = TabularCPD(variable='F', variable_card=2, values=[[0.3], [0.7]], state_names={\"F\":[\"low\", \"high\"]})\n",
    "cpd_q = TabularCPD(variable='Q', variable_card=2, values=[[0.5, 0.2], [0.5, 0.8]],\n",
    "                    evidence=['F'], evidence_card=[2], state_names={\"F\":[\"low\", \"high\"], \"Q\": [\"bad\", \"good\"]})\n",
    "cpd_d = TabularCPD(variable='D', variable_card=2, values=[[0.6, 0.3], [0.4, 0.7]],\n",
    "                    evidence=['F'], evidence_card=[2], state_names={\"F\":[\"low\", \"high\"], \"D\": [\"weak\", \"strong\"]})\n",
    "cpd_w = TabularCPD(variable='W', variable_card=2, \n",
    "                    values=[[0.30, 0.5, 0.15, 0.25], [0.70, 0.5, 0.85, 0.75]],\n",
    "                    evidence=['Q', 'D'], evidence_card=[2, 2], state_names={\"Q\":[\"bad\", \"good\"], \"D\": [\"weak\", \"strong\"], \"W\": [\"lose\", \"win\"]})\n",
    "\n",
    "# Add CPDs to model\n",
    "model.add_cpds(cpd_f, cpd_q, cpd_d, cpd_w)\n",
    "\n",
    "# Check Model\n",
    "assert model.check_model()"
   ]
  },
  {
   "cell_type": "code",
   "execution_count": null,
   "id": "4b70d4c3-3eab-4116-b1ba-2311a78e15f7",
   "metadata": {
    "deletable": false,
    "editable": false,
    "nbgrader": {
     "cell_type": "code",
     "checksum": "71a95f2bbba3f140272466d0d6ddc6ee",
     "grade": false,
     "grade_id": "cell-a39f936e065d7815",
     "locked": true,
     "schema_version": 3,
     "solution": false,
     "task": false
    }
   },
   "outputs": [],
   "source": [
    "_ = [print (cpd) for cpd in model.get_cpds()]"
   ]
  },
  {
   "cell_type": "markdown",
   "id": "bbf8b64d-626b-4054-baa1-df63212634b3",
   "metadata": {
    "deletable": false,
    "editable": false,
    "nbgrader": {
     "cell_type": "markdown",
     "checksum": "a0e401d3ff3658b5a0cd2362058a9025",
     "grade": false,
     "grade_id": "cell-ebc749500aa524bb",
     "locked": true,
     "schema_version": 3,
     "solution": false,
     "task": false
    }
   },
   "source": [
    "----\n",
    "Calculate $P(W|F=\\text{high})$"
   ]
  },
  {
   "cell_type": "markdown",
   "id": "e41e96ec-d265-47b5-a79e-ae8f260e861a",
   "metadata": {
    "deletable": false,
    "editable": false,
    "nbgrader": {
     "cell_type": "markdown",
     "checksum": "46ddb29f5e1350789178bf69146e3d91",
     "grade": false,
     "grade_id": "cell-3706f3402af1a853",
     "locked": true,
     "schema_version": 3,
     "solution": false,
     "task": false
    }
   },
   "source": [
    "$$\n",
    "\\begin{align}\n",
    "P(W|F=\\text{high}) & = \\\\\n",
    "& \\propto P(W,F=\\text{high}) \\\\\n",
    "& = \\sum_{q\\in Q,d \\in D} P(F=\\text{high}, Q, D, W) \\\\\n",
    "& = \\sum_{q,d} P(F=\\text{high})P(q|F=\\text{high})P(d|F=\\text{high})P(W|q,d) \n",
    "\\end{align}\n",
    "$$"
   ]
  },
  {
   "cell_type": "code",
   "execution_count": null,
   "id": "eb05868c-850b-42a8-b0eb-8fc1e693ca5d",
   "metadata": {
    "deletable": false,
    "nbgrader": {
     "cell_type": "code",
     "checksum": "56182cd722ee289af7080e889cd1852c",
     "grade": false,
     "grade_id": "cell-fc5edf8273348150",
     "locked": false,
     "schema_version": 3,
     "solution": true,
     "task": false
    }
   },
   "outputs": [],
   "source": [
    "P_w = None\n",
    "\n",
    "# Calcuate the probabiity of winning and losing \n",
    "# and put it in a the P_w variable\n",
    "\n",
    "# YOUR CODE HERE\n",
    "raise NotImplementedError()\n",
    "\n",
    "P_w"
   ]
  },
  {
   "cell_type": "code",
   "execution_count": null,
   "id": "db1aaf40-96bb-4ae5-b113-ad757b72a511",
   "metadata": {
    "deletable": false,
    "editable": false,
    "nbgrader": {
     "cell_type": "code",
     "checksum": "a2a494cf82d0bc4ea1280c4f577b651b",
     "grade": true,
     "grade_id": "cell-aa23a87e0230bc4c",
     "locked": true,
     "points": 9,
     "schema_version": 3,
     "solution": false,
     "task": false
    }
   },
   "outputs": [],
   "source": [
    "# This cell intentionaly left empty\n"
   ]
  },
  {
   "cell_type": "markdown",
   "id": "706e7148-9deb-442a-8041-b2b83a6f0d62",
   "metadata": {
    "deletable": false,
    "editable": false,
    "nbgrader": {
     "cell_type": "markdown",
     "checksum": "0295d42f9ff99d6d6194593b576c3f34",
     "grade": false,
     "grade_id": "cell-c93f77f7c03800fb",
     "locked": true,
     "schema_version": 3,
     "solution": false,
     "task": false
    }
   },
   "source": [
    "----\n",
    "Then we can use Variable Elimination to do the same inference. \n",
    "\n",
    "Variable Elimination is based on the following insight:\n",
    "\n",
    "$$\n",
    "\\begin{align}\n",
    "& \\sum_{q,d} P(F=\\text{high})P(q|F=\\text{high})P(d|F=\\text{high})P(W|q,d) \\\\\n",
    "& = P(F=\\text{high}) \\sum_{q,d} P(q|F=\\text{high})P(d|F=\\text{high})P(W|q,d) \\\\\n",
    "& = P(F=\\text{high}) \\sum_{q} P(q|F=\\text{high})\\sum_{d}P(d|F=\\text{high})P(W|q,d) \\\\\n",
    "\\end{align}\n",
    "$$"
   ]
  },
  {
   "cell_type": "markdown",
   "id": "f4d1c48e-a8d2-42fb-9a91-85e8f7ba4737",
   "metadata": {
    "deletable": false,
    "editable": false,
    "nbgrader": {
     "cell_type": "markdown",
     "checksum": "4d1cdfe026c046a1f79014c1da941762",
     "grade": false,
     "grade_id": "cell-5a61430bf8b1618e",
     "locked": true,
     "schema_version": 3,
     "solution": false,
     "task": false
    }
   },
   "source": [
    "----\n",
    "\n",
    "Now use the `VariabeElimination` functionalityin `pgmpy` to calcuate the same probability.\n"
   ]
  },
  {
   "cell_type": "code",
   "execution_count": null,
   "id": "9d4aa580-d26d-49c0-9941-3d7b847dd654",
   "metadata": {
    "deletable": false,
    "nbgrader": {
     "cell_type": "code",
     "checksum": "242af8e39a979656bab52a58539e4a76",
     "grade": true,
     "grade_id": "cell-38c30eb4cf53462c",
     "locked": false,
     "points": 1,
     "schema_version": 3,
     "solution": true,
     "task": false
    }
   },
   "outputs": [],
   "source": [
    "# YOUR CODE HERE\n",
    "raise NotImplementedError()"
   ]
  },
  {
   "cell_type": "markdown",
   "id": "fa3efc3f-2a92-42a2-947d-dfd0608715ce",
   "metadata": {
    "deletable": false,
    "editable": false,
    "nbgrader": {
     "cell_type": "markdown",
     "checksum": "b141eae245f03450d4bb8818ed8eca19",
     "grade": false,
     "grade_id": "cell-e634ad84d3fcefce",
     "locked": true,
     "schema_version": 3,
     "solution": false,
     "task": false
    }
   },
   "source": [
    "----\n",
    "Here's a more complex example, using the indurance BN:"
   ]
  },
  {
   "cell_type": "code",
   "execution_count": null,
   "id": "5384925d-5c26-4273-ae6f-be97e7b21e50",
   "metadata": {
    "deletable": false,
    "editable": false,
    "nbgrader": {
     "cell_type": "code",
     "checksum": "375c701ce39ae3857d3e8aa503b5f38f",
     "grade": false,
     "grade_id": "cell-b3130de225e7c8bb",
     "locked": true,
     "schema_version": 3,
     "solution": false,
     "task": false
    }
   },
   "outputs": [],
   "source": [
    "from pgmpy.utils import get_example_model\n",
    "\n",
    "model = get_example_model('insurance')\n",
    "model.get_cardinality()"
   ]
  },
  {
   "cell_type": "code",
   "execution_count": null,
   "id": "5dc4e7b2-5292-4a01-aee7-1394e177a35a",
   "metadata": {
    "deletable": false,
    "editable": false,
    "nbgrader": {
     "cell_type": "code",
     "checksum": "1e6e5883726d0f49f49b5a3daa6ccc37",
     "grade": false,
     "grade_id": "cell-5cd13edc4e63bb76",
     "locked": true,
     "schema_version": 3,
     "solution": false,
     "task": false
    }
   },
   "outputs": [],
   "source": [
    "print(model.get_cpds(node=\"Age\"))"
   ]
  },
  {
   "cell_type": "code",
   "execution_count": null,
   "id": "8e3b83c3-aea9-4fb0-9875-dc3663f6c33d",
   "metadata": {
    "deletable": false,
    "editable": false,
    "nbgrader": {
     "cell_type": "code",
     "checksum": "8c77507bc9bb893208d82c2e4eda3967",
     "grade": false,
     "grade_id": "cell-d75184e11ae56cc9",
     "locked": true,
     "schema_version": 3,
     "solution": false,
     "task": false
    }
   },
   "outputs": [],
   "source": [
    "print(model.get_cpds(node=\"DrivQuality\"))"
   ]
  },
  {
   "cell_type": "markdown",
   "id": "ced2f8ce-0749-425c-87e1-9b56cb1fbe69",
   "metadata": {
    "deletable": false,
    "editable": false,
    "nbgrader": {
     "cell_type": "markdown",
     "checksum": "0a864a6eaddc02d62def6d0fc79728d8",
     "grade": false,
     "grade_id": "cell-4f13904ae75c6e1b",
     "locked": true,
     "schema_version": 3,
     "solution": false,
     "task": false
    }
   },
   "source": [
    "Can you calculate the probability of `DrivQuality` given `Age` for both `Adolescent` and `Senior` values of `Age`? "
   ]
  },
  {
   "cell_type": "code",
   "execution_count": null,
   "id": "2d670eac-b11a-4410-96ca-59d07adf960f",
   "metadata": {
    "deletable": false,
    "nbgrader": {
     "cell_type": "code",
     "checksum": "a9994a85b3b4e1ba5365a77f151cccf7",
     "grade": true,
     "grade_id": "cell-d186569a449624ec",
     "locked": false,
     "points": 1,
     "schema_version": 3,
     "solution": true,
     "task": false
    }
   },
   "outputs": [],
   "source": [
    "# YOUR CODE HERE\n",
    "raise NotImplementedError()"
   ]
  }
 ],
 "metadata": {
  "kernelspec": {
   "display_name": "Python 3 (ipykernel)",
   "language": "python",
   "name": "python3"
  },
  "language_info": {
   "codemirror_mode": {
    "name": "ipython",
    "version": 3
   },
   "file_extension": ".py",
   "mimetype": "text/x-python",
   "name": "python",
   "nbconvert_exporter": "python",
   "pygments_lexer": "ipython3",
   "version": "3.12.4"
  }
 },
 "nbformat": 4,
 "nbformat_minor": 5
}
